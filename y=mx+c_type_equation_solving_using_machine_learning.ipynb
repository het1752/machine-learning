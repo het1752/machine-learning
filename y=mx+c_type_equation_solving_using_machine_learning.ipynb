{
  "nbformat": 4,
  "nbformat_minor": 0,
  "metadata": {
    "colab": {
      "name": "y=mx+c type equation solving using machine learning.ipynb",
      "private_outputs": true,
      "provenance": [],
      "collapsed_sections": []
    },
    "kernelspec": {
      "name": "python3",
      "display_name": "Python 3"
    },
    "language_info": {
      "name": "python"
    }
  },
  "cells": [
    {
      "cell_type": "code",
      "execution_count": null,
      "metadata": {
        "id": "v0aAwzQUYEIc"
      },
      "outputs": [],
      "source": [
        "import tensorflow as tf\n",
        "import numpy as np\n",
        "import matplotlib.pyplot as plt"
      ]
    },
    {
      "cell_type": "code",
      "source": [
        "x=np.arange(0,1000,5).reshape(200,1).astype('float64')\n",
        "y=3*x+5\n",
        "x.shape\n",
        "y.shape"
      ],
      "metadata": {
        "id": "GRhw0s0-aBrs"
      },
      "execution_count": null,
      "outputs": []
    },
    {
      "cell_type": "code",
      "source": [
        "plt.plot(x,y)"
      ],
      "metadata": {
        "id": "TS-MS1v-aJwU"
      },
      "execution_count": null,
      "outputs": []
    },
    {
      "cell_type": "code",
      "source": [
        "len(x),len(y)"
      ],
      "metadata": {
        "id": "XQRdEBtoaMzu"
      },
      "execution_count": null,
      "outputs": []
    },
    {
      "cell_type": "code",
      "source": [
        "x_train=x[:160]\n",
        "y_train=y[:160]\n",
        "x_test=x[160:]\n",
        "y_test=y[160:]\n",
        "len(x_train),len(y_train),len(x_test),len(y_test)"
      ],
      "metadata": {
        "id": "J_NBC9uDab_l"
      },
      "execution_count": null,
      "outputs": []
    },
    {
      "cell_type": "code",
      "source": [
        "plt.figure(figsize=(5,4))\n",
        "plt.plot(x_train,y_train,color=\"green\",label=\"training data\")\n",
        "plt.scatter(x_test,y_test,color=\"blue\",label=\"testing data\")\n",
        "plt.legend()"
      ],
      "metadata": {
        "id": "daAvobinawcZ"
      },
      "execution_count": null,
      "outputs": []
    },
    {
      "cell_type": "code",
      "source": [
        "from sklearn.linear_model import LinearRegression\n",
        "model=LinearRegression()\n",
        "model.fit(x_train,y_train)"
      ],
      "metadata": {
        "id": "dB8WZpC7bMSm"
      },
      "execution_count": null,
      "outputs": []
    },
    {
      "cell_type": "code",
      "source": [
        "model.predict([[50000]])"
      ],
      "metadata": {
        "id": "K8wGJ2QggtJZ"
      },
      "execution_count": null,
      "outputs": []
    },
    {
      "cell_type": "code",
      "source": [
        "y_test[[7]],model.predict(x_test[[7]])"
      ],
      "metadata": {
        "id": "BeiPhQrSlXrR"
      },
      "execution_count": null,
      "outputs": []
    },
    {
      "cell_type": "code",
      "source": [
        "model.predict(x_test).shape"
      ],
      "metadata": {
        "id": "PPAwYnSMlLH_"
      },
      "execution_count": null,
      "outputs": []
    },
    {
      "cell_type": "code",
      "source": [
        "y_pred=model.predict(x_test)"
      ],
      "metadata": {
        "id": "KWFEyJP1nXmV"
      },
      "execution_count": null,
      "outputs": []
    },
    {
      "cell_type": "code",
      "source": [
        "y_test.shape"
      ],
      "metadata": {
        "id": "ZDNulPD1lUIE"
      },
      "execution_count": null,
      "outputs": []
    },
    {
      "cell_type": "code",
      "source": [
        "y_test=y_test.reshape(40)"
      ],
      "metadata": {
        "id": "JQe3PQvvnsaF"
      },
      "execution_count": null,
      "outputs": []
    },
    {
      "cell_type": "code",
      "source": [
        "y_pred=y_pred.reshape(40)"
      ],
      "metadata": {
        "id": "NWrWxe2Jn6pp"
      },
      "execution_count": null,
      "outputs": []
    },
    {
      "cell_type": "code",
      "source": [
        "plt.plot(x_train,y_train,c=\"black\",label=\"training data\")\n",
        "plt.plot(x_test,y_test,c=\"red\",label=\"original\")\n",
        "plt.scatter(x_test,y_pred,c=\"green\",label=\"predictions\")\n",
        "plt.legend()"
      ],
      "metadata": {
        "id": "HRhn8ejCm_W9"
      },
      "execution_count": null,
      "outputs": []
    },
    {
      "cell_type": "code",
      "source": [
        ""
      ],
      "metadata": {
        "id": "C_HZUKtoqQb-"
      },
      "execution_count": null,
      "outputs": []
    }
  ]
}